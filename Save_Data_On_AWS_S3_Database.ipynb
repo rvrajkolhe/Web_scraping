{
 "cells": [
  {
   "cell_type": "code",
   "execution_count": 1,
   "id": "990cbe30",
   "metadata": {},
   "outputs": [],
   "source": [
    "# pip install gitpython"
   ]
  },
  {
   "cell_type": "code",
   "execution_count": 5,
   "id": "7d64d97d",
   "metadata": {},
   "outputs": [
    {
     "ename": "InvalidGitRepositoryError",
     "evalue": "C:\\New folder",
     "output_type": "error",
     "traceback": [
      "\u001b[1;31m---------------------------------------------------------------------------\u001b[0m",
      "\u001b[1;31mInvalidGitRepositoryError\u001b[0m                 Traceback (most recent call last)",
      "Input \u001b[1;32mIn [5]\u001b[0m, in \u001b[0;36m<cell line: 14>\u001b[1;34m()\u001b[0m\n\u001b[0;32m     11\u001b[0m existing_file_path \u001b[38;5;241m=\u001b[39m \u001b[38;5;124mr\u001b[39m\u001b[38;5;124m'\u001b[39m\u001b[38;5;124mC:\u001b[39m\u001b[38;5;124m\\\u001b[39m\u001b[38;5;124mNew folder\u001b[39m\u001b[38;5;124m\\\u001b[39m\u001b[38;5;124mscraped_data.txt\u001b[39m\u001b[38;5;124m'\u001b[39m\n\u001b[0;32m     13\u001b[0m \u001b[38;5;66;03m# Initialize the repository\u001b[39;00m\n\u001b[1;32m---> 14\u001b[0m repo \u001b[38;5;241m=\u001b[39m \u001b[43mRepo\u001b[49m\u001b[43m(\u001b[49m\u001b[43mrepo_path\u001b[49m\u001b[43m)\u001b[49m\n\u001b[0;32m     16\u001b[0m \u001b[38;5;66;03m# Copy the existing file to the repository\u001b[39;00m\n\u001b[0;32m     17\u001b[0m shutil\u001b[38;5;241m.\u001b[39mcopy(existing_file_path, \u001b[38;5;124mf\u001b[39m\u001b[38;5;124m\"\u001b[39m\u001b[38;5;132;01m{\u001b[39;00mrepo_path\u001b[38;5;132;01m}\u001b[39;00m\u001b[38;5;124m/\u001b[39m\u001b[38;5;132;01m{\u001b[39;00mfile_path\u001b[38;5;132;01m}\u001b[39;00m\u001b[38;5;124m\"\u001b[39m)\n",
      "File \u001b[1;32m~\\anaconda3\\lib\\site-packages\\git\\repo\\base.py:267\u001b[0m, in \u001b[0;36mRepo.__init__\u001b[1;34m(self, path, odbt, search_parent_directories, expand_vars)\u001b[0m\n\u001b[0;32m    264\u001b[0m \u001b[38;5;66;03m# END while curpath\u001b[39;00m\n\u001b[0;32m    266\u001b[0m \u001b[38;5;28;01mif\u001b[39;00m git_dir \u001b[38;5;129;01mis\u001b[39;00m \u001b[38;5;28;01mNone\u001b[39;00m:\n\u001b[1;32m--> 267\u001b[0m     \u001b[38;5;28;01mraise\u001b[39;00m InvalidGitRepositoryError(epath)\n\u001b[0;32m    268\u001b[0m \u001b[38;5;28mself\u001b[39m\u001b[38;5;241m.\u001b[39mgit_dir \u001b[38;5;241m=\u001b[39m git_dir\n\u001b[0;32m    270\u001b[0m \u001b[38;5;28mself\u001b[39m\u001b[38;5;241m.\u001b[39m_bare \u001b[38;5;241m=\u001b[39m \u001b[38;5;28;01mFalse\u001b[39;00m\n",
      "\u001b[1;31mInvalidGitRepositoryError\u001b[0m: C:\\New folder"
     ]
    }
   ],
   "source": [
    "from git import Repo\n",
    "import shutil\n",
    "\n",
    "# Specify your local Git repository path\n",
    "repo_path = r'C:\\New folder'\n",
    "\n",
    "# Specify the file path within the repository\n",
    "file_path = 'https://github.com/rvrajkolhe/Web_scraping.git'\n",
    "\n",
    "# Specify the path to your existing .txt file\n",
    "existing_file_path = r'C:\\New folder\\scraped_data.txt'\n",
    "\n",
    "# Initialize the repository\n",
    "repo = Repo(repo_path)\n",
    "\n",
    "# Copy the existing file to the repository\n",
    "shutil.copy(existing_file_path, f\"{repo_path}/{file_path}\")\n",
    "\n",
    "# Stage, commit, and push changes\n",
    "repo.index.add([file_path])\n",
    "repo.index.commit(\"Add existing text file\")\n",
    "origin = repo.remote(name='origin')\n",
    "origin.push()\n",
    "\n",
    "print(f'{file_path} added to the repository.')\n"
   ]
  },
  {
   "cell_type": "code",
   "execution_count": null,
   "id": "aaaa3cbc",
   "metadata": {},
   "outputs": [],
   "source": []
  },
  {
   "cell_type": "code",
   "execution_count": null,
   "id": "7d30f33a",
   "metadata": {},
   "outputs": [],
   "source": []
  },
  {
   "cell_type": "code",
   "execution_count": null,
   "id": "37b0e21b",
   "metadata": {},
   "outputs": [],
   "source": []
  }
 ],
 "metadata": {
  "kernelspec": {
   "display_name": "Python 3 (ipykernel)",
   "language": "python",
   "name": "python3"
  },
  "language_info": {
   "codemirror_mode": {
    "name": "ipython",
    "version": 3
   },
   "file_extension": ".py",
   "mimetype": "text/x-python",
   "name": "python",
   "nbconvert_exporter": "python",
   "pygments_lexer": "ipython3",
   "version": "3.9.12"
  }
 },
 "nbformat": 4,
 "nbformat_minor": 5
}
